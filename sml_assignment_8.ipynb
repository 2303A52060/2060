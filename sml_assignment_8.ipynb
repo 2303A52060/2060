{
  "nbformat": 4,
  "nbformat_minor": 0,
  "metadata": {
    "colab": {
      "provenance": [],
      "authorship_tag": "ABX9TyN4/9AS2G4hXXhnUNsgcYSi",
      "include_colab_link": true
    },
    "kernelspec": {
      "name": "python3",
      "display_name": "Python 3"
    },
    "language_info": {
      "name": "python"
    }
  },
  "cells": [
    {
      "cell_type": "markdown",
      "metadata": {
        "id": "view-in-github",
        "colab_type": "text"
      },
      "source": [
        "<a href=\"https://colab.research.google.com/github/2303A52060/sml_assignments/blob/main/sml_assignment_8.ipynb\" target=\"_parent\"><img src=\"https://colab.research.google.com/assets/colab-badge.svg\" alt=\"Open In Colab\"/></a>"
      ]
    },
    {
      "cell_type": "markdown",
      "source": [
        "NAME:M.BHARATH\n",
        "\n",
        "ROLL NO:2303A52060\n",
        "\n",
        "BATCH N0:39\n",
        "\n",
        "ASSIGNMENT-8"
      ],
      "metadata": {
        "id": "FQaYDFUnFwPA"
      }
    },
    {
      "cell_type": "markdown",
      "source": [
        "Question 1:\n",
        "\n",
        "Below is an example dataset with 10 students (rows), 5 features, and a binary target label (Pass/Fail). The target label is 1 if the student is predicted to pass, and 0 if they are predicted to fail.\n",
        "\n",
        "X1 : 10 5 15 2 12 8 14 3 11 6\n",
        "\n",
        "X2 : 90 60 95 30 85 75 92 50 88 65\n",
        "\n",
        "X3 : 85 70 90 50 88 65 93 55 80 60\n",
        "\n",
        "X4 : 1 0 1 0 1 0 1 0 1 0\n",
        "\n",
        "X5 : 100 80 100 40 90 70 95 60 85 75\n",
        "\n",
        "Pass/Fail : 1 0 1 0 1 0 1 0 1 0"
      ],
      "metadata": {
        "id": "CKngZphcF7Qv"
      }
    },
    {
      "cell_type": "code",
      "execution_count": 10,
      "metadata": {
        "colab": {
          "base_uri": "https://localhost:8080/"
        },
        "id": "fkVAhlSWFvDi",
        "outputId": "aca0d224-2900-4e30-a3dd-6dc97559aaca"
      },
      "outputs": [
        {
          "output_type": "stream",
          "name": "stdout",
          "text": [
            "Accuracy: 1.00\n"
          ]
        }
      ],
      "source": [
        "import pandas as pd\n",
        "from sklearn.model_selection import train_test_split\n",
        "from sklearn.linear_model import LogisticRegression\n",
        "from sklearn.metrics import accuracy_score\n",
        "data = {\n",
        "    'X1': [10, 5, 15, 2, 12, 8, 14, 3, 11, 6],\n",
        "    'X2': [90, 60, 95, 30, 85, 75, 92, 50, 88, 65],\n",
        "    'X3': [85, 70, 90, 50, 88, 65, 93, 55, 80, 60],\n",
        "    'X4': [1, 0, 1, 0, 1, 0, 1, 0, 1, 0],\n",
        "    'X5': [100, 80, 100, 40, 90, 70, 95, 60, 85, 75],\n",
        "    'Pass/Fail': [1, 0, 1, 0, 1, 0, 1, 0, 1, 0]\n",
        "}\n",
        "df = pd.DataFrame(data)\n",
        "X = df.drop('Pass/Fail', axis=1)\n",
        "y = df['Pass/Fail']\n",
        "X_train, X_test, y_train, y_test = train_test_split(X, y, test_size=0.2, random_state=42)\n",
        "model = LogisticRegression()\n",
        "model.fit(X_train, y_train)\n",
        "y_pred = model.predict(X_test)\n",
        "accuracy = accuracy_score(y_test, y_pred)\n",
        "print(f'Accuracy: {accuracy:.2f}')\n"
      ]
    },
    {
      "cell_type": "markdown",
      "source": [
        "Questions 2:\n",
        "\n",
        "https://www.kaggle.com/datasets/ishandutta/early-stage-diabetes-risk-prediction-dataset\n",
        "\n",
        "Implement a logistic regression model to train above data, and find the accuracy."
      ],
      "metadata": {
        "id": "UKINkRltJNe0"
      }
    },
    {
      "cell_type": "code",
      "source": [
        "import pandas as pd\n",
        "from sklearn.model_selection import train_test_split\n",
        "from sklearn.linear_model import LogisticRegression\n",
        "from sklearn.metrics import accuracy_score\n",
        "from sklearn.preprocessing import LabelEncoder\n",
        "data = pd.read_csv('diabetes_data.csv')\n",
        "print(data.columns)\n",
        "print(data.head())\n",
        "label_encoder = LabelEncoder()\n",
        "for column in data.columns:\n",
        "    if data[column].dtype == 'object':\n",
        "        data[column] = label_encoder.fit_transform(data[column])\n",
        "X = data.drop(target_variable, axis=1)\n",
        "y = data[target_variable]\n",
        "X_train, X_test, y_train, y_test = train_test_split(X, y, test_size=0.2, random_state=42)\n",
        "model = LogisticRegression(max_iter=1000)\n",
        "model.fit(X_train, y_train)\n",
        "y_pred = model.predict(X_test)\n",
        "accuracy = accuracy_score(y_test, y_pred)\n",
        "print(f'Accuracy: {accuracy:.2f}')"
      ],
      "metadata": {
        "colab": {
          "base_uri": "https://localhost:8080/"
        },
        "id": "D_JlRqbTHaUo",
        "outputId": "9368625c-4916-4bf8-82c2-30f44ae58dd4"
      },
      "execution_count": 9,
      "outputs": [
        {
          "output_type": "stream",
          "name": "stdout",
          "text": [
            "Index(['Age', 'Gender', 'Polyuria', 'Polydipsia', 'sudden weight loss',\n",
            "       'weakness', 'Polyphagia', 'Genital thrush', 'visual blurring',\n",
            "       'Itching', 'Irritability', 'delayed healing', 'partial paresis',\n",
            "       'muscle stiffness', 'Alopecia', 'Obesity', 'class'],\n",
            "      dtype='object')\n",
            "   Age Gender Polyuria Polydipsia sudden weight loss weakness Polyphagia  \\\n",
            "0   40   Male       No        Yes                 No      Yes         No   \n",
            "1   58   Male       No         No                 No      Yes         No   \n",
            "2   41   Male      Yes         No                 No      Yes        Yes   \n",
            "3   45   Male       No         No                Yes      Yes        Yes   \n",
            "4   60   Male      Yes        Yes                Yes      Yes        Yes   \n",
            "\n",
            "  Genital thrush visual blurring Itching Irritability delayed healing  \\\n",
            "0             No              No     Yes           No             Yes   \n",
            "1             No             Yes      No           No              No   \n",
            "2             No              No     Yes           No             Yes   \n",
            "3            Yes              No     Yes           No             Yes   \n",
            "4             No             Yes     Yes          Yes             Yes   \n",
            "\n",
            "  partial paresis muscle stiffness Alopecia Obesity     class  \n",
            "0              No              Yes      Yes     Yes  Positive  \n",
            "1             Yes               No      Yes      No  Positive  \n",
            "2              No              Yes      Yes      No  Positive  \n",
            "3              No               No       No      No  Positive  \n",
            "4             Yes              Yes      Yes     Yes  Positive  \n",
            "Accuracy: 0.92\n"
          ]
        }
      ]
    }
  ]
}