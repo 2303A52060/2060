{
  "nbformat": 4,
  "nbformat_minor": 0,
  "metadata": {
    "colab": {
      "provenance": [],
      "authorship_tag": "ABX9TyO8j2q22DSlQs563uJ65coV",
      "include_colab_link": true
    },
    "kernelspec": {
      "name": "python3",
      "display_name": "Python 3"
    },
    "language_info": {
      "name": "python"
    }
  },
  "cells": [
    {
      "cell_type": "markdown",
      "metadata": {
        "id": "view-in-github",
        "colab_type": "text"
      },
      "source": [
        "<a href=\"https://colab.research.google.com/github/2303A52060/2060/blob/main/sml_assignment_3.ipynb\" target=\"_parent\"><img src=\"https://colab.research.google.com/assets/colab-badge.svg\" alt=\"Open In Colab\"/></a>"
      ]
    },
    {
      "cell_type": "markdown",
      "source": [
        "name:m.bharath\n",
        "\n",
        "roll no:2303a52060\n",
        "\n",
        "subject : statistical machine learining.\n",
        "\n",
        "Assignment-3;\n",
        "\n"
      ],
      "metadata": {
        "id": "C9izEJBKyw3G"
      }
    },
    {
      "cell_type": "markdown",
      "source": [
        "question no: 1\n",
        "\n",
        "https://www.kaggle.com/datasets/camnugent/california-housing-prices\n",
        "\n",
        "Find out the maximum likelihood parameters values for california_housing [‘latiyude’,total_rooms’,’house_median_age’,’total_bedrooms’] data, each column individually.\n",
        "\n"
      ],
      "metadata": {
        "id": "fSyLYA1kzYeM"
      }
    },
    {
      "cell_type": "code",
      "source": [
        "import pandas as pd\n",
        "import numpy as np\n",
        "\n",
        "# Load the dataset (assuming 'housing.csv' is in the current directory)\n",
        "df = pd.read_csv('housing.csv')\n",
        "\n",
        "# Define columns of interest\n",
        "columns_of_interest = ['latitude', 'total_rooms', 'house_median_age', 'total_bedrooms']\n",
        "\n",
        "# Initialize a dictionary to store MLE parameters\n",
        "mle_parameters = {}\n",
        "\n",
        "# Compute MLE parameters for each column\n",
        "for column in columns_of_interest:\n",
        "    # Check if the column exists in the DataFrame, case-insensitively\n",
        "    if column.lower() in df.columns:\n",
        "        data = df[column.lower()].dropna()  # Drop NaN values, using the correct case\n",
        "    else:\n",
        "        print(f\"Warning: Column '{column}' not found in the DataFrame.\")\n",
        "        continue  # Skip to the next column\n",
        "\n",
        "    # Compute mean (MLE estimator for mean of a normal distribution)\n",
        "    mean = np.mean(data)\n",
        "\n",
        "    # Compute standard deviation (MLE estimator for standard deviation of a normal distribution)\n",
        "    std_dev = np.std(data, ddof=0)  # Population standard deviation\n",
        "\n",
        "    # Store the results\n",
        "    mle_parameters[column] = {'mean': mean, 'std_dev': std_dev}\n",
        "\n",
        "# Print the MLE parameters\n",
        "for column, params in mle_parameters.items():\n",
        "    print(f\"Column: {column}\")\n",
        "    print(f\"MLE Mean: {params['mean']:.2f}\")\n",
        "    print(f\"MLE Standard Deviation: {params['std_dev']:.2f}\")\n",
        "print()"
      ],
      "metadata": {
        "colab": {
          "base_uri": "https://localhost:8080/"
        },
        "id": "5No7ovmdzsNE",
        "outputId": "1420fee8-7ae3-4488-97d8-c18153a10231"
      },
      "execution_count": 2,
      "outputs": [
        {
          "output_type": "stream",
          "name": "stdout",
          "text": [
            "Warning: Column 'house_median_age' not found in the DataFrame.\n",
            "Column: latitude\n",
            "MLE Mean: 35.63\n",
            "MLE Standard Deviation: 2.14\n",
            "Column: total_rooms\n",
            "MLE Mean: 2635.76\n",
            "MLE Standard Deviation: 2181.56\n",
            "Column: total_bedrooms\n",
            "MLE Mean: 537.87\n",
            "MLE Standard Deviation: 421.37\n",
            "\n"
          ]
        }
      ]
    },
    {
      "cell_type": "markdown",
      "source": [
        "Question 2:\n",
        "\n",
        "Find log-likelihood values for 50, 75, and 80. For California_housing [‘latitude’] and find the Max likelihood values.\n",
        "\n"
      ],
      "metadata": {
        "id": "KWUZeqKo0j3-"
      }
    },
    {
      "cell_type": "code",
      "source": [
        "import pandas as pd\n",
        "import numpy as np\n",
        "from scipy.stats import norm\n",
        "\n",
        "# Load the California housing dataset (replace with actual file path)\n",
        "from sklearn.datasets import fetch_california_housing\n",
        "housing = fetch_california_housing(as_frame=True)\n",
        "df = housing.frame\n",
        "\n",
        "# Extract the 'latitude' column and remove NaN values\n",
        "latitude_data = df['Latitude'].dropna()\n",
        "\n",
        "# Calculate MLE parameters for latitude\n",
        "mle_mean = np.mean(latitude_data)\n",
        "mle_std_dev = np.std(latitude_data, ddof=0)  # Population standard deviation\n",
        "\n",
        "# Define the points for which to calculate log-likelihood\n",
        "points = [50, 75, 80]\n",
        "\n",
        "# Calculate log-likelihood for each point\n",
        "for point in points:\n",
        "    log_likelihood = norm.logpdf(point, loc=mle_mean, scale=mle_std_dev)\n",
        "    print(f\"Log-likelihood at {point}: {log_likelihood:.2f}\")\n",
        "\n",
        "# Calculate maximum likelihood value (at the mean)\n",
        "max_likelihood = norm.pdf(mle_mean, loc=mle_mean, scale=mle_std_dev)\n",
        "print(f\"Maximum likelihood value (at mean): {max_likelihood:.2f}\")"
      ],
      "metadata": {
        "colab": {
          "base_uri": "https://localhost:8080/"
        },
        "id": "TRzcEQ2D0p8e",
        "outputId": "5c3e8ab4-3213-4900-b18e-452eb6f7275d"
      },
      "execution_count": 3,
      "outputs": [
        {
          "output_type": "stream",
          "name": "stdout",
          "text": [
            "Log-likelihood at 50: -24.30\n",
            "Log-likelihood at 75: -171.54\n",
            "Log-likelihood at 80: -217.43\n",
            "Maximum likelihood value (at mean): 0.19\n"
          ]
        }
      ]
    },
    {
      "cell_type": "markdown",
      "source": [
        "Question 3:\n",
        "\n",
        "Estimate the density of each column of california_housing [‘latitude’,total_rooms’,’house_median_age’,’total_bedrooms’] data, For the bins [5, 10, 15, 20]. And write the observations.\n"
      ],
      "metadata": {
        "id": "-IofXStP0yJX"
      }
    },
    {
      "cell_type": "code",
      "source": [
        "import pandas as pd\n",
        "import numpy as np\n",
        "\n",
        "# Load the dataset\n",
        "df = pd.read_csv('housing.csv')\n",
        "\n",
        "# Define columns of interest\n",
        "columns_of_interest = ['latitude', 'total_rooms', 'house_median_age', 'total_bedrooms']\n",
        "\n",
        "# Define bin edges for each column\n",
        "bins = [5, 10, 15, 20]\n",
        "\n",
        "# Initialize a dictionary to store density results\n",
        "density_results = {}\n",
        "\n",
        "# Calculate density for each column\n",
        "for column in columns_of_interest:\n",
        "  if column.lower() in df.columns:\n",
        "    data = df[column.lower()].dropna()  # Drop NaN values\n",
        "  else:\n",
        "    print(\"Warning:Column '{column}' not found in the DataFrame.\")\n",
        "    continue\n",
        "    # Determine the bin edges\n",
        "    bin_edges = np.linspace(data.min(), data.max(), num=len(bins) + 1)\n",
        "\n",
        "    # Calculate histogram\n",
        "    hist, edges = np.histogram(data, bins=bin_edges, density=True)\n",
        "\n",
        "    # Calculate bin widths\n",
        "    bin_widths = np.diff(edges)\n",
        "\n",
        "    # Store results\n",
        "    density_results[column] = {\n",
        "        'bin_edges': edges,\n",
        "        'histogram': hist,\n",
        "        'bin_widths': bin_widths\n",
        "    }\n",
        "\n",
        "# Print density results and observations\n",
        "for column, result in density_results.items():\n",
        "    print(f\"Column: {column}\")\n",
        "    print(f\"Bin Edges: {result['bin_edges']}\")\n",
        "    print(f\"Bin Widths: {result['bin_widths']}\")\n",
        "    print(f\"Histogram (Density): {result['histogram']}\")\n",
        "    print()\n",
        "\n",
        "    # Observations\n",
        "    print(f\"Observations for {column}:\")\n",
        "    for i in range(len(result['histogram'])):\n",
        "        print(f\"Bin {i + 1} [{result['bin_edges'][i]} to {result['bin_edges'][i + 1]}]: Density = {result['histogram'][i]:.4f}\")\n",
        "print()"
      ],
      "metadata": {
        "colab": {
          "base_uri": "https://localhost:8080/"
        },
        "id": "p679V5rZ0-bt",
        "outputId": "d376cb6a-610e-4eea-bdb9-bb026b3667e9"
      },
      "execution_count": 5,
      "outputs": [
        {
          "output_type": "stream",
          "name": "stdout",
          "text": [
            "Warning:Column '{column}' not found in the DataFrame.\n",
            "\n"
          ]
        }
      ]
    }
  ]
}