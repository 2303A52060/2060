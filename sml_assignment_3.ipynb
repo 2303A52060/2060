{
  "nbformat": 4,
  "nbformat_minor": 0,
  "metadata": {
    "colab": {
      "provenance": [],
      "authorship_tag": "ABX9TyPj03MPq+4qh7+Wwv3ohNXm",
      "include_colab_link": true
    },
    "kernelspec": {
      "name": "python3",
      "display_name": "Python 3"
    },
    "language_info": {
      "name": "python"
    }
  },
  "cells": [
    {
      "cell_type": "markdown",
      "metadata": {
        "id": "view-in-github",
        "colab_type": "text"
      },
      "source": [
        "<a href=\"https://colab.research.google.com/github/2303A52060/sml_assignments/blob/main/sml_assignment_3.ipynb\" target=\"_parent\"><img src=\"https://colab.research.google.com/assets/colab-badge.svg\" alt=\"Open In Colab\"/></a>"
      ]
    },
    {
      "cell_type": "markdown",
      "source": [
        "name:m.bharath\n",
        "\n",
        "roll no:2303a52060\n",
        "\n",
        "subject : statistical machine learining.\n",
        "\n",
        "Assignment-3;\n",
        "\n"
      ],
      "metadata": {
        "id": "C9izEJBKyw3G"
      }
    },
    {
      "cell_type": "markdown",
      "source": [
        "question no: 1\n",
        "\n",
        "https://www.kaggle.com/datasets/camnugent/california-housing-prices\n",
        "\n",
        "Find out the maximum likelihood parameters values for california_housing [‘latiyude’,total_rooms’,’house_median_age’,’total_bedrooms’] data, each column individually.\n",
        "\n"
      ],
      "metadata": {
        "id": "fSyLYA1kzYeM"
      }
    },
    {
      "cell_type": "code",
      "source": [
        "import pandas as pd\n",
        "import numpy as np\n",
        "\n",
        "# Load the dataset (assuming 'housing.csv' is in the current directory)\n",
        "df = pd.read_csv('housing.csv')\n",
        "\n",
        "# Define columns of interest\n",
        "columns_of_interest = ['latitude', 'total_rooms', 'house_median_age', 'total_bedrooms']\n",
        "\n",
        "# Initialize a dictionary to store MLE parameters\n",
        "mle_parameters = {}\n",
        "\n",
        "# Compute MLE parameters for each column\n",
        "for column in columns_of_interest:\n",
        "    # Check if the column exists in the DataFrame, case-insensitively\n",
        "    if column.lower() in df.columns:\n",
        "        data = df[column.lower()].dropna()  # Drop NaN values, using the correct case\n",
        "    else:\n",
        "        print(f\"Warning: Column '{column}' not found in the DataFrame.\")\n",
        "        continue  # Skip to the next column\n",
        "\n",
        "    # Compute mean (MLE estimator for mean of a normal distribution)\n",
        "    mean = np.mean(data)\n",
        "\n",
        "    # Compute standard deviation (MLE estimator for standard deviation of a normal distribution)\n",
        "    std_dev = np.std(data, ddof=0)  # Population standard deviation\n",
        "\n",
        "    # Store the results\n",
        "    mle_parameters[column] = {'mean': mean, 'std_dev': std_dev}\n",
        "\n",
        "# Print the MLE parameters\n",
        "for column, params in mle_parameters.items():\n",
        "    print(f\"Column: {column}\")\n",
        "    print(f\"MLE Mean: {params['mean']:.2f}\")\n",
        "    print(f\"MLE Standard Deviation: {params['std_dev']:.2f}\")\n",
        "print()"
      ],
      "metadata": {
        "colab": {
          "base_uri": "https://localhost:8080/"
        },
        "id": "5No7ovmdzsNE",
        "outputId": "1420fee8-7ae3-4488-97d8-c18153a10231"
      },
      "execution_count": null,
      "outputs": [
        {
          "output_type": "stream",
          "name": "stdout",
          "text": [
            "Warning: Column 'house_median_age' not found in the DataFrame.\n",
            "Column: latitude\n",
            "MLE Mean: 35.63\n",
            "MLE Standard Deviation: 2.14\n",
            "Column: total_rooms\n",
            "MLE Mean: 2635.76\n",
            "MLE Standard Deviation: 2181.56\n",
            "Column: total_bedrooms\n",
            "MLE Mean: 537.87\n",
            "MLE Standard Deviation: 421.37\n",
            "\n"
          ]
        }
      ]
    },
    {
      "cell_type": "markdown",
      "source": [
        "Question 2:\n",
        "\n",
        "Find log-likelihood values for 50, 75, and 80. For California_housing [‘latitude’] and find the Max likelihood values.\n",
        "\n"
      ],
      "metadata": {
        "id": "KWUZeqKo0j3-"
      }
    },
    {
      "cell_type": "code",
      "source": [
        "import pandas as pd\n",
        "import numpy as np\n",
        "from scipy.stats import norm\n",
        "\n",
        "# Load the California housing dataset (replace with actual file path)\n",
        "from sklearn.datasets import fetch_california_housing\n",
        "housing = fetch_california_housing(as_frame=True)\n",
        "df = housing.frame\n",
        "\n",
        "# Extract the 'latitude' column and remove NaN values\n",
        "latitude_data = df['Latitude'].dropna()\n",
        "\n",
        "# Calculate MLE parameters for latitude\n",
        "mle_mean = np.mean(latitude_data)\n",
        "mle_std_dev = np.std(latitude_data, ddof=0)  # Population standard deviation\n",
        "\n",
        "# Define the points for which to calculate log-likelihood\n",
        "points = [50, 75, 80]\n",
        "\n",
        "# Calculate log-likelihood for each point\n",
        "for point in points:\n",
        "    log_likelihood = norm.logpdf(point, loc=mle_mean, scale=mle_std_dev)\n",
        "    print(f\"Log-likelihood at {point}: {log_likelihood:.2f}\")\n",
        "\n",
        "# Calculate maximum likelihood value (at the mean)\n",
        "max_likelihood = norm.pdf(mle_mean, loc=mle_mean, scale=mle_std_dev)\n",
        "print(f\"Maximum likelihood value (at mean): {max_likelihood:.2f}\")"
      ],
      "metadata": {
        "colab": {
          "base_uri": "https://localhost:8080/"
        },
        "id": "TRzcEQ2D0p8e",
        "outputId": "5c3e8ab4-3213-4900-b18e-452eb6f7275d"
      },
      "execution_count": null,
      "outputs": [
        {
          "output_type": "stream",
          "name": "stdout",
          "text": [
            "Log-likelihood at 50: -24.30\n",
            "Log-likelihood at 75: -171.54\n",
            "Log-likelihood at 80: -217.43\n",
            "Maximum likelihood value (at mean): 0.19\n"
          ]
        }
      ]
    },
    {
      "cell_type": "markdown",
      "source": [
        "Question 3:\n",
        "\n",
        "Estimate the density of each column of california_housing [‘latitude’,total_rooms’,’house_median_age’,’total_bedrooms’] data, For the bins [5, 10, 15, 20]. And write the observations.\n"
      ],
      "metadata": {
        "id": "-IofXStP0yJX"
      }
    },
    {
      "cell_type": "code",
      "source": [
        "import pandas as pd\n",
        "import numpy as np\n",
        "\n",
        "# Load the dataset\n",
        "df = pd.read_csv('housing.csv')\n",
        "\n",
        "# Define columns of interest\n",
        "columns_of_interest = ['latitude', 'total_rooms', 'house_median_age', 'total_bedrooms']\n",
        "\n",
        "# Define bin edges for each column\n",
        "bins = [5, 10, 15, 20]\n",
        "\n",
        "# Initialize a dictionary to store density results\n",
        "density_results = {}\n",
        "\n",
        "# Calculate density for each column\n",
        "for column in columns_of_interest:\n",
        "    if column in df.columns:\n",
        "        data = df[column].dropna()  # Drop NaN values\n",
        "\n",
        "        # Determine the bin edges\n",
        "        bin_edges = np.linspace(data.min(), data.max(), num=len(bins) + 1)\n",
        "\n",
        "        # Calculate histogram\n",
        "        hist, edges = np.histogram(data, bins=bin_edges, density=True)\n",
        "\n",
        "        # Calculate bin widths\n",
        "        bin_widths = np.diff(edges)\n",
        "\n",
        "        # Store results\n",
        "        density_results[column] = {\n",
        "            'bin_edges': edges,\n",
        "            'histogram': hist,\n",
        "            'bin_widths': bin_widths\n",
        "        }\n",
        "    else:\n",
        "        print(f\"Warning: Column '{column}' not found in the DataFrame.\")\n",
        "        continue\n",
        "\n",
        "# Print density results and observations\n",
        "for column, result in density_results.items():\n",
        "    print(f\"Column: {column}\")\n",
        "    print(f\"Bin Edges: {result['bin_edges']}\")\n",
        "    print(f\"Bin Widths: {result['bin_widths']}\")\n",
        "    print(f\"Histogram (Density): {result['histogram']}\")\n",
        "    print()\n",
        "\n",
        "    # Observations\n",
        "    print(f\"Observations for {column}:\")\n",
        "    for i in range(len(result['histogram'])):\n",
        "        print(f\"Bin {i + 1} [{result['bin_edges'][i]} to {result['bin_edges'][i + 1]}]: Density = {result['histogram'][i]:.4f}\")\n",
        "    print()\n"
      ],
      "metadata": {
        "colab": {
          "base_uri": "https://localhost:8080/"
        },
        "id": "p679V5rZ0-bt",
        "outputId": "01c86704-73ce-42e2-dc7c-108a42e7d0a5"
      },
      "execution_count": 5,
      "outputs": [
        {
          "output_type": "stream",
          "name": "stdout",
          "text": [
            "Warning: Column 'house_median_age' not found in the DataFrame.\n",
            "Column: latitude\n",
            "Bin Edges: [32.54   34.8925 37.245  39.5975 41.95  ]\n",
            "Bin Widths: [2.3525 2.3525 2.3525 2.3525]\n",
            "Histogram (Density): [0.2310753  0.04275511 0.13963374 0.01161555]\n",
            "\n",
            "Observations for latitude:\n",
            "Bin 1 [32.54 to 34.8925]: Density = 0.2311\n",
            "Bin 2 [34.8925 to 37.245000000000005]: Density = 0.0428\n",
            "Bin 3 [37.245000000000005 to 39.597500000000004]: Density = 0.1396\n",
            "Bin 4 [39.597500000000004 to 41.95]: Density = 0.0116\n",
            "\n",
            "Column: total_rooms\n",
            "Bin Edges: [2.00000e+00 9.83150e+03 1.96610e+04 2.94905e+04 3.93200e+04]\n",
            "Bin Widths: [9829.5 9829.5 9829.5 9829.5]\n",
            "Histogram (Density): [1.00226300e-04 1.34561719e-06 1.28154018e-07 3.45030049e-08]\n",
            "\n",
            "Observations for total_rooms:\n",
            "Bin 1 [2.0 to 9831.5]: Density = 0.0001\n",
            "Bin 2 [9831.5 to 19661.0]: Density = 0.0000\n",
            "Bin 3 [19661.0 to 29490.5]: Density = 0.0000\n",
            "Bin 4 [29490.5 to 39320.0]: Density = 0.0000\n",
            "\n",
            "Column: total_bedrooms\n",
            "Bin Edges: [1.000e+00 1.612e+03 3.223e+03 4.834e+03 6.445e+03]\n",
            "Bin Widths: [1611. 1611. 1611. 1611.]\n",
            "Histogram (Density): [6.05026563e-04 1.40654398e-05 1.36705138e-06 2.73410276e-07]\n",
            "\n",
            "Observations for total_bedrooms:\n",
            "Bin 1 [1.0 to 1612.0]: Density = 0.0006\n",
            "Bin 2 [1612.0 to 3223.0]: Density = 0.0000\n",
            "Bin 3 [3223.0 to 4834.0]: Density = 0.0000\n",
            "Bin 4 [4834.0 to 6445.0]: Density = 0.0000\n",
            "\n"
          ]
        }
      ]
    }
  ]
}