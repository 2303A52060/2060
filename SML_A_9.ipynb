{
  "nbformat": 4,
  "nbformat_minor": 0,
  "metadata": {
    "colab": {
      "provenance": [],
      "authorship_tag": "ABX9TyO7P9BvSMDhFWSbsudIT1YR",
      "include_colab_link": true
    },
    "kernelspec": {
      "name": "python3",
      "display_name": "Python 3"
    },
    "language_info": {
      "name": "python"
    }
  },
  "cells": [
    {
      "cell_type": "markdown",
      "metadata": {
        "id": "view-in-github",
        "colab_type": "text"
      },
      "source": [
        "<a href=\"https://colab.research.google.com/github/2303A52060/sml_assignments/blob/main/SML_A_9.ipynb\" target=\"_parent\"><img src=\"https://colab.research.google.com/assets/colab-badge.svg\" alt=\"Open In Colab\"/></a>"
      ]
    },
    {
      "cell_type": "markdown",
      "source": [
        "Name:M.bharath,\n",
        "\n",
        "Roll No: 2303a52060,\n",
        "\n",
        "Subject:Statistical machine learning,\n"
      ],
      "metadata": {
        "id": "9HAbnwu6PZOl"
      }
    },
    {
      "cell_type": "markdown",
      "source": [
        "Assignment-9\n",
        "\n",
        "Question 1:\n",
        "\n",
        "https://www.kaggle.com/datasets/kellistephenson/increasing-breast-cancer-awarenessLinks\n",
        "\n",
        "1.Read the data with pandas and find features and target variables.\n",
        "\n",
        "2.Find target variable.\n",
        "\n",
        "3.Select suitable model and train.\n",
        "\n",
        "4.Find accuracy with different test sizes."
      ],
      "metadata": {
        "id": "PwnMbWZOS9Lh"
      }
    },
    {
      "cell_type": "code",
      "execution_count": 17,
      "metadata": {
        "colab": {
          "base_uri": "https://localhost:8080/"
        },
        "id": "0YUB1dsqOLoE",
        "outputId": "cfa6dae3-ede9-4bfc-ae5c-0be0e010c875"
      },
      "outputs": [
        {
          "output_type": "stream",
          "name": "stdout",
          "text": [
            "Requirement already satisfied: pandas in /usr/local/lib/python3.10/dist-packages (2.2.2)\n",
            "Requirement already satisfied: scikit-learn in /usr/local/lib/python3.10/dist-packages (1.5.2)\n",
            "Requirement already satisfied: numpy>=1.22.4 in /usr/local/lib/python3.10/dist-packages (from pandas) (1.26.4)\n",
            "Requirement already satisfied: python-dateutil>=2.8.2 in /usr/local/lib/python3.10/dist-packages (from pandas) (2.8.2)\n",
            "Requirement already satisfied: pytz>=2020.1 in /usr/local/lib/python3.10/dist-packages (from pandas) (2024.2)\n",
            "Requirement already satisfied: tzdata>=2022.7 in /usr/local/lib/python3.10/dist-packages (from pandas) (2024.2)\n",
            "Requirement already satisfied: scipy>=1.6.0 in /usr/local/lib/python3.10/dist-packages (from scikit-learn) (1.13.1)\n",
            "Requirement already satisfied: joblib>=1.2.0 in /usr/local/lib/python3.10/dist-packages (from scikit-learn) (1.4.2)\n",
            "Requirement already satisfied: threadpoolctl>=3.1.0 in /usr/local/lib/python3.10/dist-packages (from scikit-learn) (3.5.0)\n",
            "Requirement already satisfied: six>=1.5 in /usr/local/lib/python3.10/dist-packages (from python-dateutil>=2.8.2->pandas) (1.16.0)\n",
            "Column names in the dataset:\n",
            "['Age', 'Gender', 'Protein1', 'Protein2', 'Protein3', 'Protein4', 'Tumour_Stage', 'Histology', 'ER status', 'PR status', 'HER2 status', 'Surgery_type', 'Date_of_Surgery', 'Date_of_Last_Visit', 'Patient_Status']\n",
            "Enter the name of the target variable (as displayed above): Age\n",
            "Test Size: 0.1, Accuracy: 0.03\n",
            "Test Size: 0.2, Accuracy: 0.03\n",
            "Test Size: 0.3, Accuracy: 0.03\n",
            "Test Size: 0.4, Accuracy: 0.02\n",
            "Test Size: 0.5, Accuracy: 0.02\n"
          ]
        }
      ],
      "source": [
        "!pip install pandas scikit-learn\n",
        "import pandas as pd\n",
        "from sklearn.model_selection import train_test_split\n",
        "from sklearn.ensemble import RandomForestClassifier\n",
        "from sklearn.metrics import accuracy_score\n",
        "from sklearn.preprocessing import LabelEncoder\n",
        "\n",
        "# Step 1: Load the dataset\n",
        "url = 'path_to_your_dataset.csv'  # Replace with the actual path to the CSV file\n",
        "data = pd.read_csv(url)\n",
        "\n",
        "# Step 2: Display column names to identify the target variable\n",
        "print(\"Column names in the dataset:\")\n",
        "print(data.columns.tolist())\n",
        "\n",
        "# Step 3: Manually set the target variable after checking the output above\n",
        "target = input(\"Enter the name of the target variable (as displayed above): \")\n",
        "\n",
        "if target not in data.columns:\n",
        "    raise KeyError(f\"'{target}' is not a valid column in the dataset. Please check the column names.\")\n",
        "\n",
        "# Identify feature columns\n",
        "features = data.columns[data.columns != target].tolist()\n",
        "\n",
        "# Step 4: Convert target variable to numerical if it's categorical\n",
        "if data[target].dtype == 'object':\n",
        "    le = LabelEncoder()\n",
        "    data[target] = le.fit_transform(data[target])  # Encode categorical target\n",
        "\n",
        "# Step 5: Convert categorical features to numerical\n",
        "data = pd.get_dummies(data, columns=features, drop_first=True)\n",
        "\n",
        "# Split the data into features (X) and target (y)\n",
        "X = data.drop(columns=[target])\n",
        "y = data[target]\n",
        "\n",
        "# Step 6: Function to evaluate model accuracy with different test sizes\n",
        "def evaluate_model(test_sizes):\n",
        "    results = {}\n",
        "    for size in test_sizes:\n",
        "        # Split the data\n",
        "        X_train, X_test, y_train, y_test = train_test_split(X, y, test_size=size, random_state=42)\n",
        "\n",
        "        # Initialize and train the model\n",
        "        model = RandomForestClassifier(random_state=42)\n",
        "        model.fit(X_train, y_train)\n",
        "\n",
        "        # Make predictions\n",
        "        y_pred = model.predict(X_test)\n",
        "\n",
        "        # Calculate accuracy\n",
        "        accuracy = accuracy_score(y_test, y_pred)\n",
        "        results[size] = accuracy\n",
        "        print(f\"Test Size: {size}, Accuracy: {accuracy:.2f}\")\n",
        "    return results\n",
        "\n",
        "# Step 7: Define test sizes to evaluate and call the evaluation function\n",
        "test_sizes = [0.1, 0.2, 0.3, 0.4, 0.5]\n",
        "accuracy_results = evaluate_model(test_sizes)\n"
      ]
    },
    {
      "cell_type": "markdown",
      "source": [
        "question no:2\n",
        "\n",
        "https://www.kaggle.com/datasets/kellistephenson/increasing-breast-cancer-awarenessLinks\n",
        "\n",
        "Implement Logistic Regression using pre-defied library. Analysis of different training and testing splits ranges, and find the accuracy.\n",
        "\n",
        ""
      ],
      "metadata": {
        "id": "x8dGwAteSGOW"
      }
    },
    {
      "cell_type": "code",
      "source": [
        "import pandas as pd\n",
        "from sklearn.model_selection import train_test_split\n",
        "from sklearn.linear_model import LogisticRegression\n",
        "from sklearn.metrics import accuracy_score\n",
        "from sklearn.preprocessing import LabelEncoder\n",
        "\n",
        "# Step 1: Load the dataset\n",
        "url = 'path_to_your_dataset.csv'  # Replace with the actual path to the CSV file\n",
        "data = pd.read_csv(url)\n",
        "\n",
        "# Step 2: Display column names to identify the target variable\n",
        "print(\"Column names in the dataset:\")\n",
        "print(data.columns.tolist())\n",
        "\n",
        "# Step 3: Manually set the target variable after checking the output above\n",
        "target = input(\"Enter the name of the target variable (as displayed above): \")\n",
        "\n",
        "if target not in data.columns:\n",
        "    raise KeyError(f\"'{target}' is not a valid column in the dataset. Please check the column names.\")\n",
        "\n",
        "# Identify feature columns\n",
        "features = data.columns[data.columns != target].tolist()\n",
        "\n",
        "# Step 4: Convert target variable to numerical if it's categorical\n",
        "if data[target].dtype == 'object':\n",
        "    le = LabelEncoder()\n",
        "    data[target] = le.fit_transform(data[target])  # Encode categorical target\n",
        "\n",
        "# Step 5: Convert categorical features to numerical\n",
        "data = pd.get_dummies(data, columns=features, drop_first=True)\n",
        "\n",
        "# Split the data into features (X) and target (y)\n",
        "X = data.drop(columns=[target])\n",
        "y = data[target]\n",
        "\n",
        "# Step 6: Function to evaluate model accuracy with different test sizes\n",
        "def evaluate_model(test_sizes):\n",
        "    results = {}\n",
        "    for size in test_sizes:\n",
        "        # Split the data\n",
        "        X_train, X_test, y_train, y_test = train_test_split(X, y, test_size=size, random_state=42)\n",
        "\n",
        "        # Initialize and train the Logistic Regression model\n",
        "        model = LogisticRegression(max_iter=1000, random_state=42)\n",
        "        model.fit(X_train, y_train)\n",
        "\n",
        "        # Make predictions\n",
        "        y_pred = model.predict(X_test)\n",
        "\n",
        "        # Calculate accuracy\n",
        "        accuracy = accuracy_score(y_test, y_pred)\n",
        "        results[size] = accuracy\n",
        "        print(f\"Test Size: {size:.2f}, Accuracy: {accuracy:.2f}\")\n",
        "    return results\n",
        "\n",
        "# Step 7: Define test sizes to evaluate and call the evaluation function\n",
        "test_sizes = [0.1, 0.2, 0.3, 0.4, 0.5]\n",
        "accuracy_results = evaluate_model(test_sizes)"
      ],
      "metadata": {
        "colab": {
          "base_uri": "https://localhost:8080/"
        },
        "id": "ddNzlMB4SGse",
        "outputId": "38ae115a-c5cd-4285-84eb-0742d206b691"
      },
      "execution_count": 18,
      "outputs": [
        {
          "output_type": "stream",
          "name": "stdout",
          "text": [
            "Column names in the dataset:\n",
            "['Age', 'Gender', 'Protein1', 'Protein2', 'Protein3', 'Protein4', 'Tumour_Stage', 'Histology', 'ER status', 'PR status', 'HER2 status', 'Surgery_type', 'Date_of_Surgery', 'Date_of_Last_Visit', 'Patient_Status']\n",
            "Enter the name of the target variable (as displayed above): Gender\n",
            "Test Size: 0.10, Accuracy: 1.00\n",
            "Test Size: 0.20, Accuracy: 1.00\n",
            "Test Size: 0.30, Accuracy: 0.99\n",
            "Test Size: 0.40, Accuracy: 0.99\n",
            "Test Size: 0.50, Accuracy: 0.99\n"
          ]
        }
      ]
    }
  ]
}